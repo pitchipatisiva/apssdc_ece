{
 "cells": [
  {
   "cell_type": "code",
   "execution_count": 1,
   "metadata": {},
   "outputs": [
    {
     "name": "stdout",
     "output_type": "stream",
     "text": [
      "helloworld\n"
     ]
    }
   ],
   "source": [
    "print('helloworld')"
   ]
  },
  {
   "cell_type": "markdown",
   "metadata": {},
   "source": [
    "###ITERATIONS"
   ]
  },
  {
   "cell_type": "code",
   "execution_count": 2,
   "metadata": {},
   "outputs": [
    {
     "data": {
      "text/plain": [
       "range(1, 10)"
      ]
     },
     "execution_count": 2,
     "metadata": {},
     "output_type": "execute_result"
    }
   ],
   "source": [
    "range(1,10)"
   ]
  },
  {
   "cell_type": "code",
   "execution_count": 3,
   "metadata": {},
   "outputs": [
    {
     "data": {
      "text/plain": [
       "range(1, 10, 2)"
      ]
     },
     "execution_count": 3,
     "metadata": {},
     "output_type": "execute_result"
    }
   ],
   "source": [
    "range(1,10,2)"
   ]
  },
  {
   "cell_type": "code",
   "execution_count": 4,
   "metadata": {},
   "outputs": [],
   "source": [
    "# syntax:\n",
    "# for var in range(start,end,diff):\n",
    "# statements"
   ]
  },
  {
   "cell_type": "code",
   "execution_count": 5,
   "metadata": {},
   "outputs": [
    {
     "name": "stdout",
     "output_type": "stream",
     "text": [
      "enter a namehello world\n",
      "hello world\n",
      "hello world\n",
      "hello world\n",
      "hello world\n",
      "hello world\n",
      "hello world\n",
      "hello world\n",
      "hello world\n",
      "hello world\n",
      "hello world\n"
     ]
    }
   ],
   "source": [
    "a=input(\"enter a name\")\n",
    "for i in range(1,11):\n",
    "    print(a)"
   ]
  },
  {
   "cell_type": "code",
   "execution_count": 6,
   "metadata": {},
   "outputs": [
    {
     "name": "stdout",
     "output_type": "stream",
     "text": [
      "1\n",
      "2\n",
      "3\n",
      "4\n",
      "5\n",
      "6\n",
      "7\n",
      "8\n",
      "9\n",
      "10\n"
     ]
    }
   ],
   "source": [
    "#a=input(\"enter a name\")\n",
    "for i in range(1,11):\n",
    "    print(i)"
   ]
  },
  {
   "cell_type": "code",
   "execution_count": 7,
   "metadata": {},
   "outputs": [
    {
     "name": "stdout",
     "output_type": "stream",
     "text": [
      "enter a namehello\n",
      "hello hello hello hello hello hello hello hello hello hello "
     ]
    }
   ],
   "source": [
    "a=input(\"enter a name\")\n",
    "for i in range(1,11):\n",
    "    print(a,end =\" \")"
   ]
  },
  {
   "cell_type": "code",
   "execution_count": 21,
   "metadata": {},
   "outputs": [
    {
     "name": "stdout",
     "output_type": "stream",
     "text": [
      "2 4 6 8 10 12 14 16 18 20 22 24 26 28 30 32 34 36 38 40 42 44 46 48 50 52 54 56 58 60 62 64 66 68 70 72 74 76 78 80 82 84 86 88 90 92 94 96 98 100 "
     ]
    }
   ],
   "source": [
    "#a=input(\"enter a name\")\n",
    "for i in range(1,101):\n",
    "    if i%2==0:\n",
    "        print(i,end =\" \")"
   ]
  },
  {
   "cell_type": "code",
   "execution_count": 22,
   "metadata": {},
   "outputs": [
    {
     "name": "stdout",
     "output_type": "stream",
     "text": [
      "1\n",
      "3\n",
      "5\n",
      "7\n",
      "9\n"
     ]
    }
   ],
   "source": [
    "#a=input(\"enter a name\")\n",
    "for i in range(1,11):\n",
    "    if i%2!=0:\n",
    "        print(i)"
   ]
  },
  {
   "cell_type": "code",
   "execution_count": 31,
   "metadata": {},
   "outputs": [
    {
     "name": "stdout",
     "output_type": "stream",
     "text": [
      "enter table number:17\n",
      "enter table length:20\n",
      "17 * 1 = 17\n",
      "17 * 2 = 34\n",
      "17 * 3 = 51\n",
      "17 * 4 = 68\n",
      "17 * 5 = 85\n",
      "17 * 6 = 102\n",
      "17 * 7 = 119\n",
      "17 * 8 = 136\n",
      "17 * 9 = 153\n",
      "17 * 10 = 170\n",
      "17 * 11 = 187\n",
      "17 * 12 = 204\n",
      "17 * 13 = 221\n",
      "17 * 14 = 238\n",
      "17 * 15 = 255\n",
      "17 * 16 = 272\n",
      "17 * 17 = 289\n",
      "17 * 18 = 306\n",
      "17 * 19 = 323\n",
      "17 * 20 = 340\n"
     ]
    }
   ],
   "source": [
    "t =int(input('enter table number:'))\n",
    "t_len =int(input('enter table length:'))\n",
    "for i in range(1,t_len+1):\n",
    "    #17 * 1 = 17\n",
    "    print('{} * {} = {}'.format(t,i,t*i))"
   ]
  },
  {
   "cell_type": "code",
   "execution_count": 32,
   "metadata": {},
   "outputs": [
    {
     "name": "stdout",
     "output_type": "stream",
     "text": [
      "enter table number:10\n",
      "enter table length:19\n",
      "10 * 1 = 10\n",
      "10 * 2 = 20\n",
      "10 * 3 = 30\n",
      "10 * 4 = 40\n",
      "10 * 5 = 50\n",
      "10 * 6 = 60\n",
      "10 * 7 = 70\n",
      "10 * 8 = 80\n",
      "10 * 9 = 90\n",
      "10 * 10 = 100\n",
      "10 * 11 = 110\n",
      "10 * 12 = 120\n",
      "10 * 13 = 130\n",
      "10 * 14 = 140\n",
      "10 * 15 = 150\n",
      "10 * 16 = 160\n",
      "10 * 17 = 170\n",
      "10 * 18 = 180\n",
      "10 * 19 = 190\n"
     ]
    }
   ],
   "source": [
    "t =int(input('enter table number:'))\n",
    "t_len =int(input('enter table length:'))\n",
    "for i in range(1,t_len+1):\n",
    "    #17 * 1 = 17\n",
    "    print('{} * {} = {}'.format(t,i,t*i))"
   ]
  },
  {
   "cell_type": "code",
   "execution_count": 37,
   "metadata": {},
   "outputs": [
    {
     "name": "stdout",
     "output_type": "stream",
     "text": [
      "enter a number:6447\n",
      "1 3 7 21 307 921 2149 6447 "
     ]
    }
   ],
   "source": [
    "n=int(input('enter a number:'))\n",
    "for i in range(1,n+1):\n",
    "    if n%i==0:\n",
    "        print(i,end=' ')"
   ]
  },
  {
   "cell_type": "code",
   "execution_count": 38,
   "metadata": {},
   "outputs": [
    {
     "name": "stdout",
     "output_type": "stream",
     "text": [
      "enter a number:166\n",
      "1 2 83 166 factors count is : 4\n"
     ]
    }
   ],
   "source": [
    "n=int(input('enter a number:'))\n",
    "cnt = 0\n",
    "for i in range(1,n+1):\n",
    "    if n%i==0:\n",
    "        cnt+=1\n",
    "        print(i,end=' ')\n",
    "print('factors count is :',cnt)"
   ]
  },
  {
   "cell_type": "code",
   "execution_count": 1,
   "metadata": {},
   "outputs": [
    {
     "name": "stdout",
     "output_type": "stream",
     "text": [
      "enter a number:4\n",
      "1 2 4 factors count is : 3\n",
      "not a prime number\n"
     ]
    }
   ],
   "source": [
    "n=int(input('enter a number:'))\n",
    "cnt = 0\n",
    "for i in range(1,n+1):\n",
    "    if n%i==0:\n",
    "        cnt+=1\n",
    "        print(i,end=' ')\n",
    "print('factors count is :',cnt)\n",
    "if cnt == 2:\n",
    "    print('prime number')\n",
    "else:\n",
    "    print('not a prime number')"
   ]
  },
  {
   "cell_type": "code",
   "execution_count": 2,
   "metadata": {},
   "outputs": [
    {
     "name": "stdout",
     "output_type": "stream",
     "text": [
      "enter a number:31\n",
      "1 31 factors count is : 2\n",
      "prime number\n"
     ]
    }
   ],
   "source": [
    "n=int(input('enter a number:'))\n",
    "cnt = 0\n",
    "for i in range(1,n+1):\n",
    "    if n%i==0:\n",
    "        cnt+=1\n",
    "        print(i,end=' ')\n",
    "print('factors count is :',cnt)\n",
    "if cnt == 2:\n",
    "    print('prime number')\n",
    "else:\n",
    "    print('not a prime number')"
   ]
  },
  {
   "cell_type": "markdown",
   "metadata": {},
   "source": [
    "-WHILE"
   ]
  },
  {
   "cell_type": "code",
   "execution_count": 4,
   "metadata": {},
   "outputs": [
    {
     "name": "stdout",
     "output_type": "stream",
     "text": [
      "1\n",
      "2\n",
      "3\n",
      "4\n",
      "5\n",
      "6\n",
      "7\n",
      "8\n",
      "9\n",
      "10\n"
     ]
    }
   ],
   "source": [
    "# while condition:\n",
    "# statements\n",
    "i=1 #start value\n",
    "while i<11:#final value\n",
    "    print(i)\n",
    "    i+=1#step value"
   ]
  },
  {
   "cell_type": "code",
   "execution_count": 1,
   "metadata": {},
   "outputs": [
    {
     "name": "stdout",
     "output_type": "stream",
     "text": [
      "enter number6\n",
      "perfect number\n"
     ]
    }
   ],
   "source": [
    "#perfect number\n",
    "n = int(input('enter number'))\n",
    "s = 0\n",
    "for i in range(1,n):\n",
    "    if n%i == 0:\n",
    "        s+=i\n",
    "if s == n:\n",
    "    print('perfect number')\n",
    "else:\n",
    "    print('not perfect number')"
   ]
  },
  {
   "cell_type": "code",
   "execution_count": 2,
   "metadata": {},
   "outputs": [
    {
     "name": "stdout",
     "output_type": "stream",
     "text": [
      "enter number1\n",
      "not perfect number\n"
     ]
    }
   ],
   "source": [
    "#perfect number\n",
    "n = int(input('enter number'))\n",
    "s = 0\n",
    "for i in range(1,n):\n",
    "    if n%i == 0:\n",
    "        s+=i\n",
    "if s == n:\n",
    "    print('perfect number')\n",
    "else:\n",
    "    print('not perfect number')"
   ]
  },
  {
   "cell_type": "code",
   "execution_count": 1,
   "metadata": {
    "scrolled": true
   },
   "outputs": [
    {
     "name": "stdout",
     "output_type": "stream",
     "text": [
      "enter tables up to:14\n",
      "enter table length:13\n"
     ]
    },
    {
     "ename": "AttributeError",
     "evalue": "'str' object has no attribute 'fromat'",
     "output_type": "error",
     "traceback": [
      "\u001b[1;31m---------------------------------------------------------------------------\u001b[0m",
      "\u001b[1;31mAttributeError\u001b[0m                            Traceback (most recent call last)",
      "\u001b[1;32m<ipython-input-1-4f605ec5ab9d>\u001b[0m in \u001b[0;36m<module>\u001b[1;34m\u001b[0m\n\u001b[0;32m      3\u001b[0m \u001b[1;32mfor\u001b[0m \u001b[0mi\u001b[0m \u001b[1;32min\u001b[0m \u001b[0mrange\u001b[0m\u001b[1;33m(\u001b[0m\u001b[1;36m1\u001b[0m\u001b[1;33m,\u001b[0m\u001b[1;36m1\u001b[0m\u001b[1;33m+\u001b[0m\u001b[0mt\u001b[0m\u001b[1;33m)\u001b[0m\u001b[1;33m:\u001b[0m\u001b[1;33m\u001b[0m\u001b[1;33m\u001b[0m\u001b[0m\n\u001b[0;32m      4\u001b[0m     \u001b[1;32mfor\u001b[0m \u001b[0mj\u001b[0m \u001b[1;32min\u001b[0m \u001b[0mrange\u001b[0m\u001b[1;33m(\u001b[0m\u001b[1;36m1\u001b[0m\u001b[1;33m,\u001b[0m\u001b[0mt_len\u001b[0m\u001b[1;33m+\u001b[0m\u001b[1;36m1\u001b[0m\u001b[1;33m)\u001b[0m\u001b[1;33m:\u001b[0m\u001b[1;33m\u001b[0m\u001b[1;33m\u001b[0m\u001b[0m\n\u001b[1;32m----> 5\u001b[1;33m         \u001b[0mprint\u001b[0m\u001b[1;33m(\u001b[0m\u001b[1;34m'{} * {} = {}'\u001b[0m\u001b[1;33m.\u001b[0m\u001b[0mfromat\u001b[0m\u001b[1;33m(\u001b[0m\u001b[0mi\u001b[0m\u001b[1;33m,\u001b[0m\u001b[0mj\u001b[0m\u001b[1;33m,\u001b[0m\u001b[0mi\u001b[0m\u001b[1;33m*\u001b[0m\u001b[0mj\u001b[0m\u001b[1;33m)\u001b[0m\u001b[1;33m)\u001b[0m\u001b[1;33m\u001b[0m\u001b[1;33m\u001b[0m\u001b[0m\n\u001b[0m",
      "\u001b[1;31mAttributeError\u001b[0m: 'str' object has no attribute 'fromat'"
     ]
    }
   ],
   "source": [
    "t = int(input('enter tables up to:'))\n",
    "t_len = int(input('enter table length:'))\n",
    "for i in range(1,1+t):\n",
    "    for j in range(1,t_len+1):\n",
    "        print('{} * {} = {}'.fromat(i,j,i*j))\n"
   ]
  },
  {
   "cell_type": "code",
   "execution_count": 8,
   "metadata": {},
   "outputs": [
    {
     "name": "stdout",
     "output_type": "stream",
     "text": [
      "10 9 8 7 6 5 4 3 2 1 "
     ]
    }
   ],
   "source": [
    "i=10\n",
    "while i>0:\n",
    "    print(i,end = ' ')\n",
    "    i-=1"
   ]
  },
  {
   "cell_type": "code",
   "execution_count": 9,
   "metadata": {},
   "outputs": [
    {
     "name": "stdout",
     "output_type": "stream",
     "text": [
      "1 2 3 4 6 7 8 9 "
     ]
    }
   ],
   "source": [
    "#BREAK\n",
    "#CONTINUE\n",
    "\n",
    "for i in range(1,10):\n",
    "    if i==5:\n",
    "        continue\n",
    "    print(i,end =' ')"
   ]
  },
  {
   "cell_type": "code",
   "execution_count": 3,
   "metadata": {},
   "outputs": [
    {
     "name": "stdout",
     "output_type": "stream",
     "text": [
      "enter tables up to:14\n",
      "enter table length:12\n",
      "1 *1 = 1\n",
      "1 *2 = 2\n",
      "1 *3 = 3\n",
      "1 *4 = 4\n",
      "1 *5 = 5\n",
      "1 *6 = 6\n",
      "1 *7 = 7\n",
      "1 *8 = 8\n",
      "1 *9 = 9\n",
      "1 *10 = 10\n",
      "1 *11 = 11\n",
      "1 *12 = 12\n",
      "2 *1 = 2\n",
      "2 *2 = 4\n",
      "2 *3 = 6\n",
      "2 *4 = 8\n",
      "2 *5 = 10\n",
      "2 *6 = 12\n",
      "2 *7 = 14\n",
      "2 *8 = 16\n",
      "2 *9 = 18\n",
      "2 *10 = 20\n",
      "2 *11 = 22\n",
      "2 *12 = 24\n",
      "3 *1 = 3\n",
      "3 *2 = 6\n",
      "3 *3 = 9\n",
      "3 *4 = 12\n",
      "3 *5 = 15\n",
      "3 *6 = 18\n",
      "3 *7 = 21\n",
      "3 *8 = 24\n",
      "3 *9 = 27\n",
      "3 *10 = 30\n",
      "3 *11 = 33\n",
      "3 *12 = 36\n",
      "4 *1 = 4\n",
      "4 *2 = 8\n",
      "4 *3 = 12\n",
      "4 *4 = 16\n",
      "4 *5 = 20\n",
      "4 *6 = 24\n",
      "4 *7 = 28\n",
      "4 *8 = 32\n",
      "4 *9 = 36\n",
      "4 *10 = 40\n",
      "4 *11 = 44\n",
      "4 *12 = 48\n",
      "5 *1 = 5\n",
      "5 *2 = 10\n",
      "5 *3 = 15\n",
      "5 *4 = 20\n",
      "5 *5 = 25\n",
      "5 *6 = 30\n",
      "5 *7 = 35\n",
      "5 *8 = 40\n",
      "5 *9 = 45\n",
      "5 *10 = 50\n",
      "5 *11 = 55\n",
      "5 *12 = 60\n",
      "6 *1 = 6\n",
      "6 *2 = 12\n",
      "6 *3 = 18\n",
      "6 *4 = 24\n",
      "6 *5 = 30\n",
      "6 *6 = 36\n",
      "6 *7 = 42\n",
      "6 *8 = 48\n",
      "6 *9 = 54\n",
      "6 *10 = 60\n",
      "6 *11 = 66\n",
      "6 *12 = 72\n",
      "7 *1 = 7\n",
      "7 *2 = 14\n",
      "7 *3 = 21\n",
      "7 *4 = 28\n",
      "7 *5 = 35\n",
      "7 *6 = 42\n",
      "7 *7 = 49\n",
      "7 *8 = 56\n",
      "7 *9 = 63\n",
      "7 *10 = 70\n",
      "7 *11 = 77\n",
      "7 *12 = 84\n",
      "8 *1 = 8\n",
      "8 *2 = 16\n",
      "8 *3 = 24\n",
      "8 *4 = 32\n",
      "8 *5 = 40\n",
      "8 *6 = 48\n",
      "8 *7 = 56\n",
      "8 *8 = 64\n",
      "8 *9 = 72\n",
      "8 *10 = 80\n",
      "8 *11 = 88\n",
      "8 *12 = 96\n",
      "9 *1 = 9\n",
      "9 *2 = 18\n",
      "9 *3 = 27\n",
      "9 *4 = 36\n",
      "9 *5 = 45\n",
      "9 *6 = 54\n",
      "9 *7 = 63\n",
      "9 *8 = 72\n",
      "9 *9 = 81\n",
      "9 *10 = 90\n",
      "9 *11 = 99\n",
      "9 *12 = 108\n",
      "10 *1 = 10\n",
      "10 *2 = 20\n",
      "10 *3 = 30\n",
      "10 *4 = 40\n",
      "10 *5 = 50\n",
      "10 *6 = 60\n",
      "10 *7 = 70\n",
      "10 *8 = 80\n",
      "10 *9 = 90\n",
      "10 *10 = 100\n",
      "10 *11 = 110\n",
      "10 *12 = 120\n",
      "11 *1 = 11\n",
      "11 *2 = 22\n",
      "11 *3 = 33\n",
      "11 *4 = 44\n",
      "11 *5 = 55\n",
      "11 *6 = 66\n",
      "11 *7 = 77\n",
      "11 *8 = 88\n",
      "11 *9 = 99\n",
      "11 *10 = 110\n",
      "11 *11 = 121\n",
      "11 *12 = 132\n",
      "12 *1 = 12\n",
      "12 *2 = 24\n",
      "12 *3 = 36\n",
      "12 *4 = 48\n",
      "12 *5 = 60\n",
      "12 *6 = 72\n",
      "12 *7 = 84\n",
      "12 *8 = 96\n",
      "12 *9 = 108\n",
      "12 *10 = 120\n",
      "12 *11 = 132\n",
      "12 *12 = 144\n",
      "13 *1 = 13\n",
      "13 *2 = 26\n",
      "13 *3 = 39\n",
      "13 *4 = 52\n",
      "13 *5 = 65\n",
      "13 *6 = 78\n",
      "13 *7 = 91\n",
      "13 *8 = 104\n",
      "13 *9 = 117\n",
      "13 *10 = 130\n",
      "13 *11 = 143\n",
      "13 *12 = 156\n",
      "14 *1 = 14\n",
      "14 *2 = 28\n",
      "14 *3 = 42\n",
      "14 *4 = 56\n",
      "14 *5 = 70\n",
      "14 *6 = 84\n",
      "14 *7 = 98\n",
      "14 *8 = 112\n",
      "14 *9 = 126\n",
      "14 *10 = 140\n",
      "14 *11 = 154\n",
      "14 *12 = 168\n"
     ]
    }
   ],
   "source": [
    "t = int(input('enter tables up to:'))\n",
    "t_len = int(input('enter table length:'))\n",
    "for i in range(1,1+t):\n",
    "    for j in range(1,t_len+1):\n",
    "        print('{} *{} = {}'.format(i,j,i*j))"
   ]
  },
  {
   "cell_type": "markdown",
   "metadata": {},
   "source": [
    "###FUNCTIONS:\n",
    "- block of code to perform some operations\n",
    "- advantages :\n",
    "    - code reusability\n",
    "    - readbulity of the program\n",
    "    - code reduce\n",
    "    -time decrease\n",
    "- types of the functions:\n",
    "    -1. inbuilt/default functions:\n",
    "        - Ex.print,sum,max,min,int\n",
    "    -2. user defined functions\n",
    "      1. function creation:\n",
    "            1. function decleration:\n",
    "                'def FunctionName:'\n",
    "            2. function defination:\n",
    "                'statements'\n",
    "                \n",
    "    2.function calling:\n",
    "            'by using function name'\n",
    "    -3. special functions:\n",
    "        - lambada,comphrensions,iterators,map"
   ]
  },
  {
   "cell_type": "code",
   "execution_count": 7,
   "metadata": {},
   "outputs": [
    {
     "name": "stdout",
     "output_type": "stream",
     "text": [
      "9\n"
     ]
    }
   ],
   "source": [
    "#function creation\n",
    "def add(a,b):\n",
    "    print(a+b)\n",
    "add(4,5)"
   ]
  },
  {
   "cell_type": "code",
   "execution_count": 9,
   "metadata": {},
   "outputs": [
    {
     "name": "stdout",
     "output_type": "stream",
     "text": [
      "-1\n"
     ]
    }
   ],
   "source": [
    "def sub(a,b):\n",
    "    print(a-b)\n",
    "sub(4,5)"
   ]
  },
  {
   "cell_type": "code",
   "execution_count": 11,
   "metadata": {},
   "outputs": [
    {
     "name": "stdout",
     "output_type": "stream",
     "text": [
      "0.8\n"
     ]
    }
   ],
   "source": [
    "def div(a,b):\n",
    "    print(a/b)\n",
    "div(4,5)"
   ]
  },
  {
   "cell_type": "markdown",
   "metadata": {},
   "source": [
    "# types of user defined functions:\n",
    "# based on return value\n",
    "#1. without arg and without return value\n",
    "#2. without arg and with return value\n",
    "#3. with arg and without return value\n",
    "#4. with arg and with return value"
   ]
  },
  {
   "cell_type": "code",
   "execution_count": 13,
   "metadata": {},
   "outputs": [
    {
     "name": "stdout",
     "output_type": "stream",
     "text": [
      "enter n value:15\n",
      "number is not a factor of 10\n",
      "enter n value:6\n",
      "number is not a factor of 10\n",
      "None\n"
     ]
    }
   ],
   "source": [
    "#1. without arg and without return value\n",
    "def f1():\n",
    "    n = int(input('enter n value:'))\n",
    "    if n%10 == 0:\n",
    "        print('number is factor of 10')\n",
    "    else:\n",
    "        print('number is not a factor of 10')\n",
    "f1()\n",
    "n=f1()\n",
    "print(n)"
   ]
  },
  {
   "cell_type": "code",
   "execution_count": 1,
   "metadata": {},
   "outputs": [
    {
     "name": "stdout",
     "output_type": "stream",
     "text": [
      "enter n value:5\n",
      "number is factor of 10\n",
      "enter n value:5\n",
      "number is factor of 10\n",
      "None\n"
     ]
    }
   ],
   "source": [
    "#1. without arg and without return value\n",
    "def f1():\n",
    "    n = int(input('enter n value:'))\n",
    "    if 10%n == 0:\n",
    "        print('number is factor of 10')\n",
    "    else:\n",
    "        print('number is not a factor of 10')\n",
    "f1()\n",
    "n=f1()\n",
    "print(n)"
   ]
  },
  {
   "cell_type": "code",
   "execution_count": 2,
   "metadata": {},
   "outputs": [
    {
     "name": "stdout",
     "output_type": "stream",
     "text": [
      "enter n1 value3\n",
      "enter n2 value4\n",
      "14\n"
     ]
    }
   ],
   "source": [
    "#2. without arg and with return value\n",
    "def f2():\n",
    "    n1 = int(input('enter n1 value'))\n",
    "    n2 = int(input('enter n2 value'))\n",
    "    return n1,n2,n1+n2\n",
    "a,b,c = f2()\n",
    "print(a+b+c)"
   ]
  },
  {
   "cell_type": "code",
   "execution_count": 6,
   "metadata": {},
   "outputs": [
    {
     "name": "stdout",
     "output_type": "stream",
     "text": [
      "enter n1 value10\n",
      "enter n2 value5\n",
      "15\n",
      "5\n"
     ]
    }
   ],
   "source": [
    "#2. without arg and with return value\n",
    "def f2():\n",
    "    n1 = int(input('enter n1 value'))\n",
    "    n2 = int(input('enter n2 value'))\n",
    "    return n1+n2,n1-n2,n1*n2,n1/n2\n",
    "add,sub,mul,div = f2()\n",
    "print(add)\n",
    "print(sub)"
   ]
  },
  {
   "cell_type": "code",
   "execution_count": 7,
   "metadata": {},
   "outputs": [
    {
     "name": "stdout",
     "output_type": "stream",
     "text": [
      "enter n1 value55\n",
      "enter n2 value11\n",
      "addition is: 66\n",
      "subraction is: 44\n",
      "multiplication is : 605\n",
      "division is: 5.0\n"
     ]
    }
   ],
   "source": [
    "#3. with arg and without return value\n",
    "n1 = int(input('enter n1 value'))\n",
    "n2 = int(input('enter n2 value'))\n",
    "def f2(n1,n2):\n",
    "    print('addition is:',n1+n2)\n",
    "    print('subraction is:',n1-n2)\n",
    "    print('multiplication is :',n1*n2)\n",
    "    print('division is:',n1/n2)\n",
    "f2(n1,n2)"
   ]
  },
  {
   "cell_type": "code",
   "execution_count": 9,
   "metadata": {},
   "outputs": [
    {
     "name": "stdout",
     "output_type": "stream",
     "text": [
      "enter n1 value10\n",
      "enter n2 value5\n",
      "addition is: 15\n",
      "subraction is: 5\n",
      "multiplication is : 50\n",
      "division is: 2.0\n",
      "10\n",
      "5\n"
     ]
    }
   ],
   "source": [
    "#4. with arg and with return value\n",
    "n1 = int(input('enter n1 value'))\n",
    "n2 = int(input('enter n2 value'))\n",
    "def f2(n1,n2):\n",
    "    print('addition is:',n1+n2)\n",
    "    print('subraction is:',n1-n2)\n",
    "    print('multiplication is :',n1*n2)\n",
    "    print('division is:',n1/n2)\n",
    "    return n1,n2\n",
    "f2(n1,n2)\n",
    "print(n1)\n",
    "print(n2)"
   ]
  },
  {
   "cell_type": "code",
   "execution_count": null,
   "metadata": {},
   "outputs": [],
   "source": []
  }
 ],
 "metadata": {
  "kernelspec": {
   "display_name": "Python 3",
   "language": "python",
   "name": "python3"
  },
  "language_info": {
   "codemirror_mode": {
    "name": "ipython",
    "version": 3
   },
   "file_extension": ".py",
   "mimetype": "text/x-python",
   "name": "python",
   "nbconvert_exporter": "python",
   "pygments_lexer": "ipython3",
   "version": "3.7.4"
  }
 },
 "nbformat": 4,
 "nbformat_minor": 2
}
